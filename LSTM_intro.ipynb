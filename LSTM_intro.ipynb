{
  "nbformat": 4,
  "nbformat_minor": 0,
  "metadata": {
    "colab": {
      "provenance": [],
      "authorship_tag": "ABX9TyMnuqvtqLkE+7iPf9pFUQi4",
      "include_colab_link": true
    },
    "kernelspec": {
      "name": "python3",
      "display_name": "Python 3"
    },
    "language_info": {
      "name": "python"
    }
  },
  "cells": [
    {
      "cell_type": "markdown",
      "metadata": {
        "id": "view-in-github",
        "colab_type": "text"
      },
      "source": [
        "<a href=\"https://colab.research.google.com/github/Shriansh16/NLP/blob/main/LSTM_intro.ipynb\" target=\"_parent\"><img src=\"https://colab.research.google.com/assets/colab-badge.svg\" alt=\"Open In Colab\"/></a>"
      ]
    },
    {
      "cell_type": "code",
      "execution_count": 1,
      "metadata": {
        "id": "gw9XuUdnNWDU"
      },
      "outputs": [],
      "source": [
        "from keras.datasets import imdb"
      ]
    },
    {
      "cell_type": "code",
      "source": [
        "from keras.utils import pad_sequences   #used for padding sequences to the same length\n",
        "from keras import Sequential #It is a linear stack of layers, allowing for easy and quick construction of deep learning models\n"
      ],
      "metadata": {
        "id": "jvjdxR4ZN5am"
      },
      "execution_count": 3,
      "outputs": []
    },
    {
      "cell_type": "code",
      "source": [
        "(X_train,y_train),(X_test,y_test)=imdb.load_data()"
      ],
      "metadata": {
        "colab": {
          "base_uri": "https://localhost:8080/"
        },
        "id": "uIhR89h-Oo6Z",
        "outputId": "bc3ac975-963d-4a13-d593-614e22d7e690"
      },
      "execution_count": 4,
      "outputs": [
        {
          "output_type": "stream",
          "name": "stdout",
          "text": [
            "Downloading data from https://storage.googleapis.com/tensorflow/tf-keras-datasets/imdb.npz\n",
            "17464789/17464789 [==============================] - 0s 0us/step\n"
          ]
        }
      ]
    },
    {
      "cell_type": "code",
      "source": [
        "print(len(X_train[1]))\n",
        "print(len(X_train[5]))"
      ],
      "metadata": {
        "colab": {
          "base_uri": "https://localhost:8080/"
        },
        "id": "nhNMOc7nPPUZ",
        "outputId": "556dff00-db19-4b9a-8cce-5387c464434b"
      },
      "execution_count": 6,
      "outputs": [
        {
          "output_type": "stream",
          "name": "stdout",
          "text": [
            "189\n",
            "43\n"
          ]
        }
      ]
    },
    {
      "cell_type": "code",
      "source": [
        "# lenghts are different hence we need zero paddding\n",
        "X_train=pad_sequences(X_train,maxlen=50,padding='post')           # because we just need to decrease the execution time\n",
        "X_test=pad_sequences(X_test,maxlen=50,padding='post')"
      ],
      "metadata": {
        "id": "JEBrS6u7PrTJ"
      },
      "execution_count": 7,
      "outputs": []
    },
    {
      "cell_type": "code",
      "source": [
        "print(len(X_train[1]))\n",
        "print(len(X_train[5]))"
      ],
      "metadata": {
        "colab": {
          "base_uri": "https://localhost:8080/"
        },
        "id": "_6pDCHSbQsuV",
        "outputId": "58705b4e-a253-4dde-c0bf-6cd168a35e28"
      },
      "execution_count": 8,
      "outputs": [
        {
          "output_type": "stream",
          "name": "stdout",
          "text": [
            "50\n",
            "50\n"
          ]
        }
      ]
    },
    {
      "cell_type": "code",
      "source": [
        "## data is already preprocessed hence no data preprocessing is required"
      ],
      "metadata": {
        "id": "AmyZn7rwRCc4"
      },
      "execution_count": 9,
      "outputs": []
    },
    {
      "cell_type": "code",
      "source": [
        "from keras.layers import Embedding # to convert integer representations of words into dense vectors. This layer essentially helps in the representation of words in a continuous vector space\n",
        "from keras.layers import LSTM,Dense\n",
        "# model\n",
        "vocab_size=100000\n",
        "model=Sequential()\n",
        "model.add(Embedding(vocab_size,output_dim=2,input_length=50))\n",
        "model.add(LSTM(32,return_sequences=False))\n",
        "#The parameter 32 indicates the dimensionality of the output space(layer will have 32 units in its output layer), and return_sequences=False means that the LSTM will only return the output at the last time step\n",
        "model.add(Dense(1,activation='sigmoid'))\n",
        "# that connects all neurons from the previous layer to all neurons in the current layer. The number 1 specifies the number of neurons in the layer, indicating that this is a single-node layer.\n",
        "model.summary()"
      ],
      "metadata": {
        "colab": {
          "base_uri": "https://localhost:8080/"
        },
        "id": "l7MYlf_wSoMZ",
        "outputId": "56527258-d6e8-491e-c4ea-20aec24f69c4"
      },
      "execution_count": 14,
      "outputs": [
        {
          "output_type": "stream",
          "name": "stdout",
          "text": [
            "Model: \"sequential_2\"\n",
            "_________________________________________________________________\n",
            " Layer (type)                Output Shape              Param #   \n",
            "=================================================================\n",
            " embedding_2 (Embedding)     (None, 50, 2)             200000    \n",
            "                                                                 \n",
            " lstm_2 (LSTM)               (None, 32)                4480      \n",
            "                                                                 \n",
            " dense_2 (Dense)             (None, 1)                 33        \n",
            "                                                                 \n",
            "=================================================================\n",
            "Total params: 204513 (798.88 KB)\n",
            "Trainable params: 204513 (798.88 KB)\n",
            "Non-trainable params: 0 (0.00 Byte)\n",
            "_________________________________________________________________\n"
          ]
        }
      ]
    },
    {
      "cell_type": "code",
      "source": [
        "model.compile(optimizer='adam',loss='binary_crossentropy',metrics=['acc'])\n",
        "history=model.fit(X_train,y_train,epochs=5,validation_data=(X_test,y_test))"
      ],
      "metadata": {
        "colab": {
          "base_uri": "https://localhost:8080/"
        },
        "id": "f3Ig7th3V8oq",
        "outputId": "b87b9015-2923-4e22-dc33-762c9158f30d"
      },
      "execution_count": 15,
      "outputs": [
        {
          "output_type": "stream",
          "name": "stdout",
          "text": [
            "Epoch 1/5\n",
            "782/782 [==============================] - 34s 39ms/step - loss: 0.5025 - acc: 0.7426 - val_loss: 0.4166 - val_acc: 0.8146\n",
            "Epoch 2/5\n",
            "782/782 [==============================] - 26s 33ms/step - loss: 0.3042 - acc: 0.8727 - val_loss: 0.4220 - val_acc: 0.8095\n",
            "Epoch 3/5\n",
            "782/782 [==============================] - 25s 31ms/step - loss: 0.2125 - acc: 0.9186 - val_loss: 0.4912 - val_acc: 0.7998\n",
            "Epoch 4/5\n",
            "782/782 [==============================] - 30s 38ms/step - loss: 0.1485 - acc: 0.9477 - val_loss: 0.5312 - val_acc: 0.7950\n",
            "Epoch 5/5\n",
            "782/782 [==============================] - 26s 33ms/step - loss: 0.1053 - acc: 0.9645 - val_loss: 0.5889 - val_acc: 0.7837\n"
          ]
        }
      ]
    },
    {
      "cell_type": "code",
      "source": [
        "## prediction\n",
        "test_data=X_test[0][0:50].reshape(1,-1) # it transform the sliced array into a 2D array with one row and a suitable number of columns\n",
        "test_data"
      ],
      "metadata": {
        "colab": {
          "base_uri": "https://localhost:8080/"
        },
        "id": "pB6lAYPkX37p",
        "outputId": "2a5f366a-1fa5-4af2-d903-10e8ee564f04"
      },
      "execution_count": 16,
      "outputs": [
        {
          "output_type": "execute_result",
          "data": {
            "text/plain": [
              "array([[  394,   354,     4,   123,     9,  1035,  1035,  1035,    10,\n",
              "           10,    13,    92,   124,    89,   488,  7944,   100,    28,\n",
              "         1668,    14,    31,    23,    27,  7479,    29,   220,   468,\n",
              "            8,   124,    14,   286,   170,     8,   157,    46,     5,\n",
              "           27,   239,    16,   179, 15387,    38,    32,    25,  7944,\n",
              "          451,   202,    14,     6,   717]], dtype=int32)"
            ]
          },
          "metadata": {},
          "execution_count": 16
        }
      ]
    },
    {
      "cell_type": "code",
      "source": [
        "model.predict(test_data)"
      ],
      "metadata": {
        "colab": {
          "base_uri": "https://localhost:8080/"
        },
        "id": "VrxwMkaPZbgY",
        "outputId": "fbe5d548-0e4f-4f05-bf69-79c6b0852f31"
      },
      "execution_count": 17,
      "outputs": [
        {
          "output_type": "stream",
          "name": "stdout",
          "text": [
            "1/1 [==============================] - 1s 1s/step\n"
          ]
        },
        {
          "output_type": "execute_result",
          "data": {
            "text/plain": [
              "array([[0.9644659]], dtype=float32)"
            ]
          },
          "metadata": {},
          "execution_count": 17
        }
      ]
    },
    {
      "cell_type": "code",
      "source": [
        "#   1--> its a positive sentiment"
      ],
      "metadata": {
        "id": "eWsLXxuiZtr4"
      },
      "execution_count": null,
      "outputs": []
    }
  ]
}