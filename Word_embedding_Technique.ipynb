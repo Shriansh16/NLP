{
  "nbformat": 4,
  "nbformat_minor": 0,
  "metadata": {
    "colab": {
      "provenance": [],
      "gpuType": "T4",
      "authorship_tag": "ABX9TyPBeN2sadbd5BcfUjJCJyLn",
      "include_colab_link": true
    },
    "kernelspec": {
      "name": "python3",
      "display_name": "Python 3"
    },
    "language_info": {
      "name": "python"
    },
    "accelerator": "GPU"
  },
  "cells": [
    {
      "cell_type": "markdown",
      "metadata": {
        "id": "view-in-github",
        "colab_type": "text"
      },
      "source": [
        "<a href=\"https://colab.research.google.com/github/Shriansh16/NLP/blob/main/Word_embedding_Technique.ipynb\" target=\"_parent\"><img src=\"https://colab.research.google.com/assets/colab-badge.svg\" alt=\"Open In Colab\"/></a>"
      ]
    },
    {
      "cell_type": "code",
      "execution_count": 4,
      "metadata": {
        "id": "DiVfNoOSHoqK"
      },
      "outputs": [],
      "source": [
        "import tensorflow"
      ]
    },
    {
      "cell_type": "code",
      "source": [
        "from tensorflow.keras.preprocessing.text import one_hot"
      ],
      "metadata": {
        "id": "DSe4AsvFH3Uj"
      },
      "execution_count": 5,
      "outputs": []
    },
    {
      "cell_type": "code",
      "source": [
        "sent=[  'the glass of milk',\n",
        "     'the glass of juice',\n",
        "     'the cup of tea',\n",
        "    'I am a good boy',\n",
        "     'I am a good developer',\n",
        "     'understand the meaning of words',\n",
        "     'your videos are good']"
      ],
      "metadata": {
        "id": "77YIZK8YH-jw"
      },
      "execution_count": 6,
      "outputs": []
    },
    {
      "cell_type": "code",
      "source": [
        "voc_size=500   # its a hyperparameter"
      ],
      "metadata": {
        "id": "f0lkTXvGOZ1B"
      },
      "execution_count": 7,
      "outputs": []
    },
    {
      "cell_type": "code",
      "source": [
        "onehot_representation=[one_hot(words,voc_size) for words in sent]"
      ],
      "metadata": {
        "id": "f3KwXZE0IABg"
      },
      "execution_count": 8,
      "outputs": []
    },
    {
      "cell_type": "code",
      "source": [
        "onehot_representation"
      ],
      "metadata": {
        "colab": {
          "base_uri": "https://localhost:8080/"
        },
        "id": "DytHJS8TOg3F",
        "outputId": "2c593b91-6568-43a8-b56a-b0687440f684"
      },
      "execution_count": 9,
      "outputs": [
        {
          "output_type": "execute_result",
          "data": {
            "text/plain": [
              "[[47, 247, 96, 195],\n",
              " [47, 247, 96, 382],\n",
              " [47, 254, 96, 209],\n",
              " [476, 405, 143, 471, 267],\n",
              " [476, 405, 143, 471, 132],\n",
              " [349, 47, 400, 96, 25],\n",
              " [411, 416, 264, 471]]"
            ]
          },
          "metadata": {},
          "execution_count": 9
        }
      ]
    },
    {
      "cell_type": "code",
      "source": [
        "# most of the sentences are not of equal lenght"
      ],
      "metadata": {
        "id": "pz17p9cQOoaQ"
      },
      "execution_count": 11,
      "outputs": []
    },
    {
      "cell_type": "code",
      "source": [
        "#padding"
      ],
      "metadata": {
        "id": "6EFkERv5RlCA"
      },
      "execution_count": 12,
      "outputs": []
    },
    {
      "cell_type": "code",
      "source": [
        "from tensorflow.keras.models import Sequential\n",
        "from tensorflow.keras.layers import Embedding\n",
        "from tensorflow.keras.preprocessing.sequence import pad_sequences"
      ],
      "metadata": {
        "id": "rxBU6dPPR18Q"
      },
      "execution_count": 13,
      "outputs": []
    },
    {
      "cell_type": "code",
      "source": [
        "#prepadding\n",
        "embedded_docs=pad_sequences(onehot_representation,padding='pre',maxlen=10)"
      ],
      "metadata": {
        "id": "DBBt4bxXSZvh"
      },
      "execution_count": 14,
      "outputs": []
    },
    {
      "cell_type": "code",
      "source": [
        "embedded_docs"
      ],
      "metadata": {
        "colab": {
          "base_uri": "https://localhost:8080/"
        },
        "id": "2Au1o1OiS84g",
        "outputId": "4babbf29-2f41-491d-e602-7e07709a50b2"
      },
      "execution_count": 15,
      "outputs": [
        {
          "output_type": "execute_result",
          "data": {
            "text/plain": [
              "array([[  0,   0,   0,   0,   0,   0,  47, 247,  96, 195],\n",
              "       [  0,   0,   0,   0,   0,   0,  47, 247,  96, 382],\n",
              "       [  0,   0,   0,   0,   0,   0,  47, 254,  96, 209],\n",
              "       [  0,   0,   0,   0,   0, 476, 405, 143, 471, 267],\n",
              "       [  0,   0,   0,   0,   0, 476, 405, 143, 471, 132],\n",
              "       [  0,   0,   0,   0,   0, 349,  47, 400,  96,  25],\n",
              "       [  0,   0,   0,   0,   0,   0, 411, 416, 264, 471]], dtype=int32)"
            ]
          },
          "metadata": {},
          "execution_count": 15
        }
      ]
    },
    {
      "cell_type": "code",
      "source": [
        "## 10 feature dimesnions\n",
        "dim=10\n",
        "model=Sequential()\n",
        "model.add(Embedding(voc_size,10,input_length=10))\n",
        "model.compile('adam','mse')"
      ],
      "metadata": {
        "id": "pyEvZH2LS_Av"
      },
      "execution_count": 16,
      "outputs": []
    },
    {
      "cell_type": "code",
      "source": [
        "model.summary()"
      ],
      "metadata": {
        "colab": {
          "base_uri": "https://localhost:8080/"
        },
        "id": "QWDj_qf0VNHp",
        "outputId": "ab5b0e43-fa18-4c31-d4a6-355aa6ad6a0e"
      },
      "execution_count": 17,
      "outputs": [
        {
          "output_type": "stream",
          "name": "stdout",
          "text": [
            "Model: \"sequential\"\n",
            "_________________________________________________________________\n",
            " Layer (type)                Output Shape              Param #   \n",
            "=================================================================\n",
            " embedding (Embedding)       (None, 10, 10)            5000      \n",
            "                                                                 \n",
            "=================================================================\n",
            "Total params: 5000 (19.53 KB)\n",
            "Trainable params: 5000 (19.53 KB)\n",
            "Non-trainable params: 0 (0.00 Byte)\n",
            "_________________________________________________________________\n"
          ]
        }
      ]
    },
    {
      "cell_type": "code",
      "source": [
        "embedded_docs[0]"
      ],
      "metadata": {
        "colab": {
          "base_uri": "https://localhost:8080/"
        },
        "id": "WH6NDYNnWAm_",
        "outputId": "89255d0a-d08c-4731-8463-ed6b4c7084b9"
      },
      "execution_count": 18,
      "outputs": [
        {
          "output_type": "execute_result",
          "data": {
            "text/plain": [
              "array([  0,   0,   0,   0,   0,   0,  47, 247,  96, 195], dtype=int32)"
            ]
          },
          "metadata": {},
          "execution_count": 18
        }
      ]
    },
    {
      "cell_type": "code",
      "source": [
        "model.predict(embedded_docs[0])"
      ],
      "metadata": {
        "colab": {
          "base_uri": "https://localhost:8080/"
        },
        "id": "8_GOprSPWDRw",
        "outputId": "960c496a-548d-4bbe-9aef-ea15cbc5667f"
      },
      "execution_count": 19,
      "outputs": [
        {
          "output_type": "stream",
          "name": "stdout",
          "text": [
            "1/1 [==============================] - 0s 118ms/step\n"
          ]
        },
        {
          "output_type": "execute_result",
          "data": {
            "text/plain": [
              "array([[-0.00098575, -0.04090351, -0.02565302, -0.04653246, -0.00891829,\n",
              "        -0.01531384,  0.01514759, -0.02928735,  0.03477483,  0.00048305],\n",
              "       [-0.00098575, -0.04090351, -0.02565302, -0.04653246, -0.00891829,\n",
              "        -0.01531384,  0.01514759, -0.02928735,  0.03477483,  0.00048305],\n",
              "       [-0.00098575, -0.04090351, -0.02565302, -0.04653246, -0.00891829,\n",
              "        -0.01531384,  0.01514759, -0.02928735,  0.03477483,  0.00048305],\n",
              "       [-0.00098575, -0.04090351, -0.02565302, -0.04653246, -0.00891829,\n",
              "        -0.01531384,  0.01514759, -0.02928735,  0.03477483,  0.00048305],\n",
              "       [-0.00098575, -0.04090351, -0.02565302, -0.04653246, -0.00891829,\n",
              "        -0.01531384,  0.01514759, -0.02928735,  0.03477483,  0.00048305],\n",
              "       [-0.00098575, -0.04090351, -0.02565302, -0.04653246, -0.00891829,\n",
              "        -0.01531384,  0.01514759, -0.02928735,  0.03477483,  0.00048305],\n",
              "       [-0.00546207,  0.04863503,  0.00325899,  0.02104267,  0.01442101,\n",
              "         0.0211959 , -0.02743844, -0.00504122,  0.02300105,  0.00214398],\n",
              "       [ 0.04350355,  0.02133774, -0.02850938, -0.02867426, -0.0067078 ,\n",
              "         0.04239713, -0.0241614 ,  0.02970598, -0.01906034, -0.04019438],\n",
              "       [-0.04440171, -0.03939135, -0.04955542, -0.01650365, -0.02296306,\n",
              "         0.00975847, -0.00459634, -0.04878218, -0.00712474, -0.04370432],\n",
              "       [ 0.01020461, -0.00645754,  0.04654311,  0.00852628, -0.00192736,\n",
              "        -0.01511098, -0.00423406, -0.04688413,  0.04281497,  0.04295684]],\n",
              "      dtype=float32)"
            ]
          },
          "metadata": {},
          "execution_count": 19
        }
      ]
    },
    {
      "cell_type": "code",
      "source": [],
      "metadata": {
        "id": "6sCaljUvWFJP"
      },
      "execution_count": null,
      "outputs": []
    },
    {
      "cell_type": "markdown",
      "source": [
        "In the context of word embeddings, when we say that each word will have 100 features or attributes associated with it in the embedding space, we mean that each word will be represented by a vector of length 100, where each element (or dimension) of the vector corresponds to a feature or attribute of the word. These features are not explicitly defined or labeled by humans; instead, they are learned by the neural network during the training process.\n",
        "\n",
        "To clarify, these features are not necessarily interpretable or directly related to human-understandable linguistic properties. Instead, they are abstract representations that the neural network learns to encode based on the patterns of co-occurrence and relationships between words in the training data."
      ],
      "metadata": {
        "id": "tACDhIffWQ9y"
      }
    },
    {
      "cell_type": "code",
      "source": [],
      "metadata": {
        "id": "KYuiSJ1MWRhw"
      },
      "execution_count": null,
      "outputs": []
    }
  ]
}