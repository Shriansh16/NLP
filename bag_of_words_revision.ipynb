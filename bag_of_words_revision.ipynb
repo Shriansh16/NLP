{
  "nbformat": 4,
  "nbformat_minor": 0,
  "metadata": {
    "colab": {
      "provenance": [],
      "authorship_tag": "ABX9TyOISJRfopP7w58pA3fj7svw",
      "include_colab_link": true
    },
    "kernelspec": {
      "name": "python3",
      "display_name": "Python 3"
    },
    "language_info": {
      "name": "python"
    }
  },
  "cells": [
    {
      "cell_type": "markdown",
      "metadata": {
        "id": "view-in-github",
        "colab_type": "text"
      },
      "source": [
        "<a href=\"https://colab.research.google.com/github/Shriansh16/NLP/blob/main/bag_of_words_revision.ipynb\" target=\"_parent\"><img src=\"https://colab.research.google.com/assets/colab-badge.svg\" alt=\"Open In Colab\"/></a>"
      ]
    },
    {
      "cell_type": "code",
      "execution_count": 1,
      "metadata": {
        "id": "qGr84rybebKe"
      },
      "outputs": [],
      "source": [
        "import nltk"
      ]
    },
    {
      "cell_type": "code",
      "source": [
        "paragraph='''Narendra Modi, a prominent figure in Indian politics, has left an indelible mark on the nation's landscape. Born on September 17, 1950, in Vadnagar, Gujarat, Modi rose from humble beginnings to become the 14th Prime Minister of India in 2014, leading the Bharatiya Janata Party (BJP) to a historic victory. Known for his dynamic leadership style and ambitious vision for India's development, Modi has implemented numerous initiatives aimed at boosting economic growth, enhancing infrastructure, and promoting social welfare. His flagship programs, such as Swachh Bharat Abhiyan (Clean India Mission) and Make in India, reflect his commitment to transforming the country. Modi's leadership during challenging times, such as the COVID-19 pandemic, showcased his ability to rally the nation and implement effective strategies to mitigate the crisis. While his tenure has been marked by both praise and criticism, Narendra Modi's influence on Indian politics and society is undeniable, shaping the nation's trajectory for years to come.'''"
      ],
      "metadata": {
        "id": "vnQ2UYFcfTYs"
      },
      "execution_count": 2,
      "outputs": []
    },
    {
      "cell_type": "code",
      "source": [
        "paragraph"
      ],
      "metadata": {
        "colab": {
          "base_uri": "https://localhost:8080/",
          "height": 140
        },
        "id": "wxjtKVPWfxGI",
        "outputId": "852b9541-47b8-4c47-8123-51d7c9f75a3f"
      },
      "execution_count": 3,
      "outputs": [
        {
          "output_type": "execute_result",
          "data": {
            "text/plain": [
              "\"Narendra Modi, a prominent figure in Indian politics, has left an indelible mark on the nation's landscape. Born on September 17, 1950, in Vadnagar, Gujarat, Modi rose from humble beginnings to become the 14th Prime Minister of India in 2014, leading the Bharatiya Janata Party (BJP) to a historic victory. Known for his dynamic leadership style and ambitious vision for India's development, Modi has implemented numerous initiatives aimed at boosting economic growth, enhancing infrastructure, and promoting social welfare. His flagship programs, such as Swachh Bharat Abhiyan (Clean India Mission) and Make in India, reflect his commitment to transforming the country. Modi's leadership during challenging times, such as the COVID-19 pandemic, showcased his ability to rally the nation and implement effective strategies to mitigate the crisis. While his tenure has been marked by both praise and criticism, Narendra Modi's influence on Indian politics and society is undeniable, shaping the nation's trajectory for years to come.\""
            ],
            "application/vnd.google.colaboratory.intrinsic+json": {
              "type": "string"
            }
          },
          "metadata": {},
          "execution_count": 3
        }
      ]
    },
    {
      "cell_type": "code",
      "source": [
        "from nltk.stem import PorterStemmer\n",
        "from nltk.corpus import stopwords"
      ],
      "metadata": {
        "id": "q_VmM_d4fyqI"
      },
      "execution_count": 5,
      "outputs": []
    },
    {
      "cell_type": "code",
      "source": [
        "sentences=nltk.sent_tokenize(paragraph)"
      ],
      "metadata": {
        "id": "9pyC-1lAgPVY"
      },
      "execution_count": 8,
      "outputs": []
    },
    {
      "cell_type": "code",
      "source": [
        "nltk.download('punkt')"
      ],
      "metadata": {
        "colab": {
          "base_uri": "https://localhost:8080/"
        },
        "id": "_wafuOjKgqNY",
        "outputId": "418927b0-8107-4a67-b3ba-45aaf987c380"
      },
      "execution_count": 7,
      "outputs": [
        {
          "output_type": "stream",
          "name": "stderr",
          "text": [
            "[nltk_data] Downloading package punkt to /root/nltk_data...\n",
            "[nltk_data]   Unzipping tokenizers/punkt.zip.\n"
          ]
        },
        {
          "output_type": "execute_result",
          "data": {
            "text/plain": [
              "True"
            ]
          },
          "metadata": {},
          "execution_count": 7
        }
      ]
    },
    {
      "cell_type": "code",
      "source": [
        "sentences"
      ],
      "metadata": {
        "colab": {
          "base_uri": "https://localhost:8080/"
        },
        "id": "6BjZUW8AgsnY",
        "outputId": "31d61826-3d63-48c1-c8e9-3d1751f9795d"
      },
      "execution_count": 9,
      "outputs": [
        {
          "output_type": "execute_result",
          "data": {
            "text/plain": [
              "[\"Narendra Modi, a prominent figure in Indian politics, has left an indelible mark on the nation's landscape.\",\n",
              " 'Born on September 17, 1950, in Vadnagar, Gujarat, Modi rose from humble beginnings to become the 14th Prime Minister of India in 2014, leading the Bharatiya Janata Party (BJP) to a historic victory.',\n",
              " \"Known for his dynamic leadership style and ambitious vision for India's development, Modi has implemented numerous initiatives aimed at boosting economic growth, enhancing infrastructure, and promoting social welfare.\",\n",
              " 'His flagship programs, such as Swachh Bharat Abhiyan (Clean India Mission) and Make in India, reflect his commitment to transforming the country.',\n",
              " \"Modi's leadership during challenging times, such as the COVID-19 pandemic, showcased his ability to rally the nation and implement effective strategies to mitigate the crisis.\",\n",
              " \"While his tenure has been marked by both praise and criticism, Narendra Modi's influence on Indian politics and society is undeniable, shaping the nation's trajectory for years to come.\"]"
            ]
          },
          "metadata": {},
          "execution_count": 9
        }
      ]
    },
    {
      "cell_type": "code",
      "source": [
        "from nltk.stem import WordNetLemmatizer"
      ],
      "metadata": {
        "id": "h87hpZT_gvw4"
      },
      "execution_count": 10,
      "outputs": []
    },
    {
      "cell_type": "code",
      "source": [
        "lemmatizer=WordNetLemmatizer()"
      ],
      "metadata": {
        "id": "sYYgjRqOhV4p"
      },
      "execution_count": 11,
      "outputs": []
    },
    {
      "cell_type": "code",
      "source": [
        "import re"
      ],
      "metadata": {
        "id": "VLYwgBmSiLDI"
      },
      "execution_count": 12,
      "outputs": []
    },
    {
      "cell_type": "code",
      "source": [
        "corpus=[]\n",
        "for i in range(len(sentences)):\n",
        "  sen=re.sub('[^a-zA-Z]',' ',sentences[i])\n",
        "  sen=sen.lower()\n",
        "  corpus.append(sen)"
      ],
      "metadata": {
        "id": "0BJAY-vOhcNn"
      },
      "execution_count": 16,
      "outputs": []
    },
    {
      "cell_type": "code",
      "source": [
        "corpus"
      ],
      "metadata": {
        "colab": {
          "base_uri": "https://localhost:8080/"
        },
        "id": "OD3qfCBFiaHY",
        "outputId": "8e1b3ca6-1ced-4225-8f7f-c27e292012b4"
      },
      "execution_count": 17,
      "outputs": [
        {
          "output_type": "execute_result",
          "data": {
            "text/plain": [
              "['narendra modi  a prominent figure in indian politics  has left an indelible mark on the nation s landscape ',\n",
              " 'born on september           in vadnagar  gujarat  modi rose from humble beginnings to become the   th prime minister of india in       leading the bharatiya janata party  bjp  to a historic victory ',\n",
              " 'known for his dynamic leadership style and ambitious vision for india s development  modi has implemented numerous initiatives aimed at boosting economic growth  enhancing infrastructure  and promoting social welfare ',\n",
              " 'his flagship programs  such as swachh bharat abhiyan  clean india mission  and make in india  reflect his commitment to transforming the country ',\n",
              " 'modi s leadership during challenging times  such as the covid    pandemic  showcased his ability to rally the nation and implement effective strategies to mitigate the crisis ',\n",
              " 'while his tenure has been marked by both praise and criticism  narendra modi s influence on indian politics and society is undeniable  shaping the nation s trajectory for years to come ']"
            ]
          },
          "metadata": {},
          "execution_count": 17
        }
      ]
    },
    {
      "cell_type": "code",
      "source": [
        "for i in range(len(corpus)):\n",
        "  words=nltk.word_tokenize(sentences[i])\n",
        "  words=[lemmatizer.lemmatize(k) for k in words]\n",
        "  sentences[i]=' '.join(words)"
      ],
      "metadata": {
        "id": "DpJ1rguBie34"
      },
      "execution_count": 26,
      "outputs": []
    },
    {
      "cell_type": "code",
      "source": [
        "sentences"
      ],
      "metadata": {
        "colab": {
          "base_uri": "https://localhost:8080/"
        },
        "id": "f7pKF2Xijmz4",
        "outputId": "8048be13-f42b-483d-c48c-e021e701cc8e"
      },
      "execution_count": 27,
      "outputs": [
        {
          "output_type": "execute_result",
          "data": {
            "text/plain": [
              "[\"Narendra Modi , a prominent figure in Indian politics , ha left an indelible mark on the nation 's landscape .\",\n",
              " 'Born on September 17 , 1950 , in Vadnagar , Gujarat , Modi rose from humble beginning to become the 14th Prime Minister of India in 2014 , leading the Bharatiya Janata Party ( BJP ) to a historic victory .',\n",
              " \"Known for his dynamic leadership style and ambitious vision for India 's development , Modi ha implemented numerous initiative aimed at boosting economic growth , enhancing infrastructure , and promoting social welfare .\",\n",
              " 'His flagship program , such a Swachh Bharat Abhiyan ( Clean India Mission ) and Make in India , reflect his commitment to transforming the country .',\n",
              " \"Modi 's leadership during challenging time , such a the COVID-19 pandemic , showcased his ability to rally the nation and implement effective strategy to mitigate the crisis .\",\n",
              " \"While his tenure ha been marked by both praise and criticism , Narendra Modi 's influence on Indian politics and society is undeniable , shaping the nation 's trajectory for year to come .\"]"
            ]
          },
          "metadata": {},
          "execution_count": 27
        }
      ]
    },
    {
      "cell_type": "code",
      "source": [
        "#bag of words"
      ],
      "metadata": {
        "id": "EgJ_fyL3jyao"
      },
      "execution_count": 28,
      "outputs": []
    },
    {
      "cell_type": "code",
      "source": [
        "from sklearn.feature_extraction.text import CountVectorizer"
      ],
      "metadata": {
        "id": "oPc5GI1EktKp"
      },
      "execution_count": 29,
      "outputs": []
    },
    {
      "cell_type": "code",
      "source": [
        "cv=CountVectorizer()"
      ],
      "metadata": {
        "id": "KcRPiGbslT-o"
      },
      "execution_count": 30,
      "outputs": []
    },
    {
      "cell_type": "code",
      "source": [
        "X=cv.fit_transform(sentences)"
      ],
      "metadata": {
        "id": "HsWbr1AXlaLZ"
      },
      "execution_count": 31,
      "outputs": []
    },
    {
      "cell_type": "code",
      "source": [
        "cv.vocabulary_"
      ],
      "metadata": {
        "colab": {
          "base_uri": "https://localhost:8080/"
        },
        "id": "9aJYT-ElmX3n",
        "outputId": "e2916741-57c2-4ac6-bfe9-efba5d981b9b"
      },
      "execution_count": 33,
      "outputs": [
        {
          "output_type": "execute_result",
          "data": {
            "text/plain": [
              "{'narendra': 69,\n",
              " 'modi': 68,\n",
              " 'prominent': 80,\n",
              " 'figure': 36,\n",
              " 'in': 48,\n",
              " 'indian': 51,\n",
              " 'politics': 76,\n",
              " 'ha': 42,\n",
              " 'left': 61,\n",
              " 'an': 9,\n",
              " 'indelible': 49,\n",
              " 'mark': 63,\n",
              " 'on': 73,\n",
              " 'the': 95,\n",
              " 'nation': 70,\n",
              " 'landscape': 58,\n",
              " 'born': 19,\n",
              " 'september': 85,\n",
              " '17': 1,\n",
              " '1950': 3,\n",
              " 'vadnagar': 101,\n",
              " 'gujarat': 41,\n",
              " 'rose': 84,\n",
              " 'from': 39,\n",
              " 'humble': 45,\n",
              " 'beginning': 14,\n",
              " 'to': 97,\n",
              " 'become': 12,\n",
              " '14th': 0,\n",
              " 'prime': 78,\n",
              " 'minister': 65,\n",
              " 'of': 72,\n",
              " 'india': 50,\n",
              " '2014': 4,\n",
              " 'leading': 60,\n",
              " 'bharatiya': 16,\n",
              " 'janata': 56,\n",
              " 'party': 75,\n",
              " 'bjp': 17,\n",
              " 'historic': 44,\n",
              " 'victory': 102,\n",
              " 'known': 57,\n",
              " 'for': 38,\n",
              " 'his': 43,\n",
              " 'dynamic': 32,\n",
              " 'leadership': 59,\n",
              " 'style': 91,\n",
              " 'and': 10,\n",
              " 'ambitious': 8,\n",
              " 'vision': 103,\n",
              " 'development': 30,\n",
              " 'implemented': 47,\n",
              " 'numerous': 71,\n",
              " 'initiative': 54,\n",
              " 'aimed': 7,\n",
              " 'at': 11,\n",
              " 'boosting': 18,\n",
              " 'economic': 33,\n",
              " 'growth': 40,\n",
              " 'enhancing': 35,\n",
              " 'infrastructure': 53,\n",
              " 'promoting': 81,\n",
              " 'social': 88,\n",
              " 'welfare': 104,\n",
              " 'flagship': 37,\n",
              " 'program': 79,\n",
              " 'such': 92,\n",
              " 'swachh': 93,\n",
              " 'bharat': 15,\n",
              " 'abhiyan': 5,\n",
              " 'clean': 23,\n",
              " 'mission': 66,\n",
              " 'make': 62,\n",
              " 'reflect': 83,\n",
              " 'commitment': 25,\n",
              " 'transforming': 99,\n",
              " 'country': 26,\n",
              " 'during': 31,\n",
              " 'challenging': 22,\n",
              " 'time': 96,\n",
              " 'covid': 27,\n",
              " '19': 2,\n",
              " 'pandemic': 74,\n",
              " 'showcased': 87,\n",
              " 'ability': 6,\n",
              " 'rally': 82,\n",
              " 'implement': 46,\n",
              " 'effective': 34,\n",
              " 'strategy': 90,\n",
              " 'mitigate': 67,\n",
              " 'crisis': 28,\n",
              " 'while': 105,\n",
              " 'tenure': 94,\n",
              " 'been': 13,\n",
              " 'marked': 64,\n",
              " 'by': 21,\n",
              " 'both': 20,\n",
              " 'praise': 77,\n",
              " 'criticism': 29,\n",
              " 'influence': 52,\n",
              " 'society': 89,\n",
              " 'is': 55,\n",
              " 'undeniable': 100,\n",
              " 'shaping': 86,\n",
              " 'trajectory': 98,\n",
              " 'year': 106,\n",
              " 'come': 24}"
            ]
          },
          "metadata": {},
          "execution_count": 33
        }
      ]
    },
    {
      "cell_type": "code",
      "source": [
        "sentences[0]"
      ],
      "metadata": {
        "colab": {
          "base_uri": "https://localhost:8080/",
          "height": 36
        },
        "id": "qJk2p6LVmdEn",
        "outputId": "927914aa-8843-45aa-dfda-184e10ef110b"
      },
      "execution_count": 34,
      "outputs": [
        {
          "output_type": "execute_result",
          "data": {
            "text/plain": [
              "\"Narendra Modi , a prominent figure in Indian politics , ha left an indelible mark on the nation 's landscape .\""
            ],
            "application/vnd.google.colaboratory.intrinsic+json": {
              "type": "string"
            }
          },
          "metadata": {},
          "execution_count": 34
        }
      ]
    },
    {
      "cell_type": "code",
      "source": [
        "X[0].toarray()"
      ],
      "metadata": {
        "colab": {
          "base_uri": "https://localhost:8080/"
        },
        "id": "ysbJcfn6mpVH",
        "outputId": "7fc791e4-921c-4c95-d4c6-6ca5d4724358"
      },
      "execution_count": 35,
      "outputs": [
        {
          "output_type": "execute_result",
          "data": {
            "text/plain": [
              "array([[0, 0, 0, 0, 0, 0, 0, 0, 0, 1, 0, 0, 0, 0, 0, 0, 0, 0, 0, 0, 0, 0,\n",
              "        0, 0, 0, 0, 0, 0, 0, 0, 0, 0, 0, 0, 0, 0, 1, 0, 0, 0, 0, 0, 1, 0,\n",
              "        0, 0, 0, 0, 1, 1, 0, 1, 0, 0, 0, 0, 0, 0, 1, 0, 0, 1, 0, 1, 0, 0,\n",
              "        0, 0, 1, 1, 1, 0, 0, 1, 0, 0, 1, 0, 0, 0, 1, 0, 0, 0, 0, 0, 0, 0,\n",
              "        0, 0, 0, 0, 0, 0, 0, 1, 0, 0, 0, 0, 0, 0, 0, 0, 0, 0, 0]])"
            ]
          },
          "metadata": {},
          "execution_count": 35
        }
      ]
    },
    {
      "cell_type": "code",
      "source": [
        "cv1=CountVectorizer(binary=True)  #binary bag of words"
      ],
      "metadata": {
        "id": "GKtOsJYymseW"
      },
      "execution_count": 36,
      "outputs": []
    },
    {
      "cell_type": "code",
      "source": [
        "X1=cv1.fit_transform(sentences)"
      ],
      "metadata": {
        "id": "DBEZ_lumnaZZ"
      },
      "execution_count": 37,
      "outputs": []
    },
    {
      "cell_type": "code",
      "source": [
        "X1[0].toarray()"
      ],
      "metadata": {
        "colab": {
          "base_uri": "https://localhost:8080/"
        },
        "id": "blTJ1fh-nknn",
        "outputId": "fc9fdbbf-3890-49a7-aa32-7156619831b1"
      },
      "execution_count": 40,
      "outputs": [
        {
          "output_type": "execute_result",
          "data": {
            "text/plain": [
              "array([[0, 0, 0, 0, 0, 0, 0, 0, 0, 1, 0, 0, 0, 0, 0, 0, 0, 0, 0, 0, 0, 0,\n",
              "        0, 0, 0, 0, 0, 0, 0, 0, 0, 0, 0, 0, 0, 0, 1, 0, 0, 0, 0, 0, 1, 0,\n",
              "        0, 0, 0, 0, 1, 1, 0, 1, 0, 0, 0, 0, 0, 0, 1, 0, 0, 1, 0, 1, 0, 0,\n",
              "        0, 0, 1, 1, 1, 0, 0, 1, 0, 0, 1, 0, 0, 0, 1, 0, 0, 0, 0, 0, 0, 0,\n",
              "        0, 0, 0, 0, 0, 0, 0, 1, 0, 0, 0, 0, 0, 0, 0, 0, 0, 0, 0]])"
            ]
          },
          "metadata": {},
          "execution_count": 40
        }
      ]
    },
    {
      "cell_type": "code",
      "source": [],
      "metadata": {
        "id": "wPirQIJUnok3"
      },
      "execution_count": null,
      "outputs": []
    }
  ]
}