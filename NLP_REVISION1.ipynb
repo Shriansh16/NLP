{
  "nbformat": 4,
  "nbformat_minor": 0,
  "metadata": {
    "colab": {
      "provenance": [],
      "authorship_tag": "ABX9TyMsc90st7xKLEpBGo4euFY1",
      "include_colab_link": true
    },
    "kernelspec": {
      "name": "python3",
      "display_name": "Python 3"
    },
    "language_info": {
      "name": "python"
    }
  },
  "cells": [
    {
      "cell_type": "markdown",
      "metadata": {
        "id": "view-in-github",
        "colab_type": "text"
      },
      "source": [
        "<a href=\"https://colab.research.google.com/github/Shriansh16/NLP/blob/main/NLP_REVISION1.ipynb\" target=\"_parent\"><img src=\"https://colab.research.google.com/assets/colab-badge.svg\" alt=\"Open In Colab\"/></a>"
      ]
    },
    {
      "cell_type": "code",
      "execution_count": 8,
      "metadata": {
        "colab": {
          "base_uri": "https://localhost:8080/"
        },
        "id": "kvSZzpI9_7TB",
        "outputId": "da50a3b7-8daf-4ff6-8557-d90091a4e141"
      },
      "outputs": [
        {
          "output_type": "stream",
          "name": "stdout",
          "text": [
            "Requirement already satisfied: nltk in /usr/local/lib/python3.10/dist-packages (3.8.1)\n",
            "Requirement already satisfied: click in /usr/local/lib/python3.10/dist-packages (from nltk) (8.1.7)\n",
            "Requirement already satisfied: joblib in /usr/local/lib/python3.10/dist-packages (from nltk) (1.3.2)\n",
            "Requirement already satisfied: regex>=2021.8.3 in /usr/local/lib/python3.10/dist-packages (from nltk) (2023.12.25)\n",
            "Requirement already satisfied: tqdm in /usr/local/lib/python3.10/dist-packages (from nltk) (4.66.2)\n"
          ]
        }
      ],
      "source": [
        "!pip install nltk"
      ]
    },
    {
      "cell_type": "code",
      "source": [
        "corpus=\"\"\" hello everyone, i am shriansh singh, Currently i am a btech student, curently i am working on data science domain!\n",
        "data science is all about play with data.\"\"\""
      ],
      "metadata": {
        "id": "b-n3TvnpABfX"
      },
      "execution_count": 9,
      "outputs": []
    },
    {
      "cell_type": "code",
      "source": [
        "print(corpus)"
      ],
      "metadata": {
        "colab": {
          "base_uri": "https://localhost:8080/"
        },
        "id": "V1kS2rI3AiFU",
        "outputId": "9156e97d-e090-4f05-fd44-e24dc062ae23"
      },
      "execution_count": 10,
      "outputs": [
        {
          "output_type": "stream",
          "name": "stdout",
          "text": [
            " hello everyone, i am shriansh singh, Currently i am a btech student, curently i am working on data science domain!\n",
            "data science is all about play with data.\n"
          ]
        }
      ]
    },
    {
      "cell_type": "code",
      "source": [
        "#paragraph->sentence\n",
        "from nltk.tokenize import sent_tokenize"
      ],
      "metadata": {
        "id": "wNqMYlzyAjkn"
      },
      "execution_count": 11,
      "outputs": []
    },
    {
      "cell_type": "code",
      "source": [
        "documents=sent_tokenize(corpus)"
      ],
      "metadata": {
        "id": "lZrq8Nf7A1YG"
      },
      "execution_count": 17,
      "outputs": []
    },
    {
      "cell_type": "code",
      "source": [
        "documents[0]"
      ],
      "metadata": {
        "colab": {
          "base_uri": "https://localhost:8080/",
          "height": 36
        },
        "id": "yoK3EXevBlZ3",
        "outputId": "46fc6607-dcbf-4ff9-8ba5-e52a682a33bd"
      },
      "execution_count": 18,
      "outputs": [
        {
          "output_type": "execute_result",
          "data": {
            "text/plain": [
              "' hello everyone, i am shriansh singh, Currently i am a btech student, curently i am working on data science domain!'"
            ],
            "application/vnd.google.colaboratory.intrinsic+json": {
              "type": "string"
            }
          },
          "metadata": {},
          "execution_count": 18
        }
      ]
    },
    {
      "cell_type": "code",
      "source": [
        "# pparagraphs into worls\n",
        "from nltk.tokenize import word_tokenize"
      ],
      "metadata": {
        "id": "9zpp3z_pCA62"
      },
      "execution_count": 19,
      "outputs": []
    },
    {
      "cell_type": "code",
      "source": [
        "word_tokenize(corpus)"
      ],
      "metadata": {
        "colab": {
          "base_uri": "https://localhost:8080/"
        },
        "id": "jjdhB0y3CMcu",
        "outputId": "7f59a9b8-e599-42b9-f238-a86c462cfa6e"
      },
      "execution_count": 20,
      "outputs": [
        {
          "output_type": "execute_result",
          "data": {
            "text/plain": [
              "['hello',\n",
              " 'everyone',\n",
              " ',',\n",
              " 'i',\n",
              " 'am',\n",
              " 'shriansh',\n",
              " 'singh',\n",
              " ',',\n",
              " 'Currently',\n",
              " 'i',\n",
              " 'am',\n",
              " 'a',\n",
              " 'btech',\n",
              " 'student',\n",
              " ',',\n",
              " 'curently',\n",
              " 'i',\n",
              " 'am',\n",
              " 'working',\n",
              " 'on',\n",
              " 'data',\n",
              " 'science',\n",
              " 'domain',\n",
              " '!',\n",
              " 'data',\n",
              " 'science',\n",
              " 'is',\n",
              " 'all',\n",
              " 'about',\n",
              " 'play',\n",
              " 'with',\n",
              " 'data',\n",
              " '.']"
            ]
          },
          "metadata": {},
          "execution_count": 20
        }
      ]
    },
    {
      "cell_type": "code",
      "source": [
        "for i in documents:\n",
        "  print(word_tokenize(i))"
      ],
      "metadata": {
        "colab": {
          "base_uri": "https://localhost:8080/"
        },
        "id": "10IW2T8ICP-W",
        "outputId": "6583822a-907e-418d-f663-1009e774e6a2"
      },
      "execution_count": 22,
      "outputs": [
        {
          "output_type": "stream",
          "name": "stdout",
          "text": [
            "['hello', 'everyone', ',', 'i', 'am', 'shriansh', 'singh', ',', 'Currently', 'i', 'am', 'a', 'btech', 'student', ',', 'curently', 'i', 'am', 'working', 'on', 'data', 'science', 'domain', '!']\n",
            "['data', 'science', 'is', 'all', 'about', 'play', 'with', 'data', '.']\n"
          ]
        }
      ]
    },
    {
      "cell_type": "code",
      "source": [
        "from nltk.tokenize import TreebankWordTokenizer"
      ],
      "metadata": {
        "id": "bx6UcCh4CiqW"
      },
      "execution_count": 26,
      "outputs": []
    },
    {
      "cell_type": "code",
      "source": [
        "tree_bank_word_tokenizer=TreebankWordTokenizer()\n",
        "tree_bank_word_tokenizer.tokenize(corpus)"
      ],
      "metadata": {
        "colab": {
          "base_uri": "https://localhost:8080/"
        },
        "id": "gB2ASEvcDOU4",
        "outputId": "bceb6e27-889f-4a4f-bce5-8ae0fd3933f2"
      },
      "execution_count": 27,
      "outputs": [
        {
          "output_type": "execute_result",
          "data": {
            "text/plain": [
              "['hello',\n",
              " 'everyone',\n",
              " ',',\n",
              " 'i',\n",
              " 'am',\n",
              " 'shriansh',\n",
              " 'singh',\n",
              " ',',\n",
              " 'Currently',\n",
              " 'i',\n",
              " 'am',\n",
              " 'a',\n",
              " 'btech',\n",
              " 'student',\n",
              " ',',\n",
              " 'curently',\n",
              " 'i',\n",
              " 'am',\n",
              " 'working',\n",
              " 'on',\n",
              " 'data',\n",
              " 'science',\n",
              " 'domain',\n",
              " '!',\n",
              " 'data',\n",
              " 'science',\n",
              " 'is',\n",
              " 'all',\n",
              " 'about',\n",
              " 'play',\n",
              " 'with',\n",
              " 'data',\n",
              " '.']"
            ]
          },
          "metadata": {},
          "execution_count": 27
        }
      ]
    },
    {
      "cell_type": "code",
      "source": [
        "from nltk.tokenize import wordpunct_tokenize"
      ],
      "metadata": {
        "id": "QwQ8ZvEmDRuW"
      },
      "execution_count": 28,
      "outputs": []
    },
    {
      "cell_type": "code",
      "source": [
        "wordpunct_tokenize(corpus)"
      ],
      "metadata": {
        "id": "nd-BGetKEjdW",
        "outputId": "b9cbe6fa-648d-4636-f09d-595b47d0161b",
        "colab": {
          "base_uri": "https://localhost:8080/"
        }
      },
      "execution_count": 29,
      "outputs": [
        {
          "output_type": "execute_result",
          "data": {
            "text/plain": [
              "['hello',\n",
              " 'everyone',\n",
              " ',',\n",
              " 'i',\n",
              " 'am',\n",
              " 'shriansh',\n",
              " 'singh',\n",
              " ',',\n",
              " 'Currently',\n",
              " 'i',\n",
              " 'am',\n",
              " 'a',\n",
              " 'btech',\n",
              " 'student',\n",
              " ',',\n",
              " 'curently',\n",
              " 'i',\n",
              " 'am',\n",
              " 'working',\n",
              " 'on',\n",
              " 'data',\n",
              " 'science',\n",
              " 'domain',\n",
              " '!',\n",
              " 'data',\n",
              " 'science',\n",
              " 'is',\n",
              " 'all',\n",
              " 'about',\n",
              " 'play',\n",
              " 'with',\n",
              " 'data',\n",
              " '.']"
            ]
          },
          "metadata": {},
          "execution_count": 29
        }
      ]
    },
    {
      "cell_type": "code",
      "source": [],
      "metadata": {
        "id": "W1dX5FhPEn_m"
      },
      "execution_count": null,
      "outputs": []
    },
    {
      "cell_type": "markdown",
      "source": [
        "#STEMMING"
      ],
      "metadata": {
        "id": "a4jR44CEGPAL"
      }
    },
    {
      "cell_type": "code",
      "source": [
        "words=['eat','eating','eaten','gone','going','run','go','ran','programs','running','programming','program']"
      ],
      "metadata": {
        "id": "Izvk31Q3GUQw"
      },
      "execution_count": 31,
      "outputs": []
    },
    {
      "cell_type": "code",
      "source": [
        "###porter_stemming"
      ],
      "metadata": {
        "id": "h3YSE2n8GzB4"
      },
      "execution_count": 32,
      "outputs": []
    },
    {
      "cell_type": "code",
      "source": [
        "from nltk.stem import PorterStemmer"
      ],
      "metadata": {
        "id": "zUgPAMOhGjRB"
      },
      "execution_count": 33,
      "outputs": []
    },
    {
      "cell_type": "code",
      "source": [
        "stemming=PorterStemmer()"
      ],
      "metadata": {
        "id": "JtTrqTtXHAXG"
      },
      "execution_count": 34,
      "outputs": []
    },
    {
      "cell_type": "code",
      "source": [
        "for i in words:\n",
        "  print(f\"{i} ---> {stemming.stem(i)}\")"
      ],
      "metadata": {
        "id": "aDrdB7GiHGa2",
        "outputId": "e7823721-8d55-48d7-acc0-0a50cbe666d9",
        "colab": {
          "base_uri": "https://localhost:8080/"
        }
      },
      "execution_count": 36,
      "outputs": [
        {
          "output_type": "stream",
          "name": "stdout",
          "text": [
            "eat ---> eat\n",
            "eating ---> eat\n",
            "eaten ---> eaten\n",
            "gone ---> gone\n",
            "going ---> go\n",
            "run ---> run\n",
            "go ---> go\n",
            "ran ---> ran\n",
            "programs ---> program\n",
            "running ---> run\n",
            "programming ---> program\n",
            "program ---> program\n"
          ]
        }
      ]
    },
    {
      "cell_type": "code",
      "source": [
        "from nltk.stem import RegexpStemmer"
      ],
      "metadata": {
        "id": "QhYe1SNEHWdV"
      },
      "execution_count": 37,
      "outputs": []
    },
    {
      "cell_type": "code",
      "source": [
        "stemmer2=RegexpStemmer('ing$|s$|ion$|able$',min=4)  #dollar means where ing and others are appearing at the last jus remove it"
      ],
      "metadata": {
        "id": "7SwC7mlzIgoF"
      },
      "execution_count": 38,
      "outputs": []
    },
    {
      "cell_type": "code",
      "source": [
        "stemmer2.stem('running')"
      ],
      "metadata": {
        "id": "YnR7hY9kJH2W",
        "outputId": "182fa06f-9289-485d-e17b-963242da100d",
        "colab": {
          "base_uri": "https://localhost:8080/",
          "height": 36
        }
      },
      "execution_count": 39,
      "outputs": [
        {
          "output_type": "execute_result",
          "data": {
            "text/plain": [
              "'runn'"
            ],
            "application/vnd.google.colaboratory.intrinsic+json": {
              "type": "string"
            }
          },
          "metadata": {},
          "execution_count": 39
        }
      ]
    },
    {
      "cell_type": "markdown",
      "source": [
        "#SNOWBALL STEMMER"
      ],
      "metadata": {
        "id": "s-o-spnkJq8q"
      }
    },
    {
      "cell_type": "code",
      "source": [
        "# BETTER ACCURACY AS COMPARED TO PARTER STEMMER"
      ],
      "metadata": {
        "id": "w22GnYbCJLhW"
      },
      "execution_count": 40,
      "outputs": []
    },
    {
      "cell_type": "code",
      "source": [
        "from nltk.stem import SnowballStemmer"
      ],
      "metadata": {
        "id": "sfy55vD9J1DU"
      },
      "execution_count": 41,
      "outputs": []
    },
    {
      "cell_type": "code",
      "source": [
        "snowball_stemmer=SnowballStemmer('english')"
      ],
      "metadata": {
        "id": "XPX_2L_rKa8p"
      },
      "execution_count": 42,
      "outputs": []
    },
    {
      "cell_type": "code",
      "source": [
        "for i in words:\n",
        "  print(f\"{i} ---> {snowball_stemmer.stem(i)}\")"
      ],
      "metadata": {
        "id": "4rd_x2x9KmoV",
        "outputId": "479d3167-4634-48b0-cdbe-e6a59d1538f8",
        "colab": {
          "base_uri": "https://localhost:8080/"
        }
      },
      "execution_count": 43,
      "outputs": [
        {
          "output_type": "stream",
          "name": "stdout",
          "text": [
            "eat ---> eat\n",
            "eating ---> eat\n",
            "eaten ---> eaten\n",
            "gone ---> gone\n",
            "going ---> go\n",
            "run ---> run\n",
            "go ---> go\n",
            "ran ---> ran\n",
            "programs ---> program\n",
            "running ---> run\n",
            "programming ---> program\n",
            "program ---> program\n"
          ]
        }
      ]
    },
    {
      "cell_type": "code",
      "source": [
        "# it perform better as compared to porter stemming\n"
      ],
      "metadata": {
        "id": "RGSvotxCKx-F"
      },
      "execution_count": 44,
      "outputs": []
    },
    {
      "cell_type": "code",
      "source": [],
      "metadata": {
        "id": "G4g1sXUoLLUG"
      },
      "execution_count": null,
      "outputs": []
    },
    {
      "cell_type": "markdown",
      "source": [
        "#LEMMATIZATION"
      ],
      "metadata": {
        "id": "dpxdvEOHUKzf"
      }
    },
    {
      "cell_type": "code",
      "source": [
        "from nltk.stem import WordNetLemmatizer"
      ],
      "metadata": {
        "id": "GYDhQ7_6UNcV"
      },
      "execution_count": 45,
      "outputs": []
    },
    {
      "cell_type": "code",
      "source": [
        "lemmatizer=WordNetLemmatizer()"
      ],
      "metadata": {
        "id": "tOjjt6UWUSLF"
      },
      "execution_count": 46,
      "outputs": []
    },
    {
      "cell_type": "code",
      "source": [
        "lemmatizer.lemmatize('going',pos='n')"
      ],
      "metadata": {
        "id": "z6NMr6VkUeS0",
        "outputId": "3a8f064e-a6d2-4c59-b8e8-b2a4a5504762",
        "colab": {
          "base_uri": "https://localhost:8080/",
          "height": 36
        }
      },
      "execution_count": 49,
      "outputs": [
        {
          "output_type": "execute_result",
          "data": {
            "text/plain": [
              "'going'"
            ],
            "application/vnd.google.colaboratory.intrinsic+json": {
              "type": "string"
            }
          },
          "metadata": {},
          "execution_count": 49
        }
      ]
    },
    {
      "cell_type": "code",
      "source": [
        "lemmatizer.lemmatize('going',pos='v')"
      ],
      "metadata": {
        "id": "axBp_w1SVic0",
        "outputId": "c57bd2d0-51c8-4e3a-e111-3d57a8be83e8",
        "colab": {
          "base_uri": "https://localhost:8080/",
          "height": 36
        }
      },
      "execution_count": 50,
      "outputs": [
        {
          "output_type": "execute_result",
          "data": {
            "text/plain": [
              "'go'"
            ],
            "application/vnd.google.colaboratory.intrinsic+json": {
              "type": "string"
            }
          },
          "metadata": {},
          "execution_count": 50
        }
      ]
    },
    {
      "cell_type": "code",
      "source": [
        "for i in words:\n",
        "  print(f\"{i}--->{lemmatizer.lemmatize(i,pos='v')}\")"
      ],
      "metadata": {
        "id": "ige8KAt5Vnl1",
        "outputId": "a239f558-479c-473e-d691-f3aed8867264",
        "colab": {
          "base_uri": "https://localhost:8080/"
        }
      },
      "execution_count": 54,
      "outputs": [
        {
          "output_type": "stream",
          "name": "stdout",
          "text": [
            "eat--->eat\n",
            "eating--->eat\n",
            "eaten--->eat\n",
            "gone--->go\n",
            "going--->go\n",
            "run--->run\n",
            "go--->go\n",
            "ran--->run\n",
            "programs--->program\n",
            "running--->run\n",
            "programming--->program\n",
            "program--->program\n"
          ]
        }
      ]
    },
    {
      "cell_type": "code",
      "source": [],
      "metadata": {
        "id": "KUoJB-_ZWAF1"
      },
      "execution_count": null,
      "outputs": []
    },
    {
      "cell_type": "markdown",
      "source": [
        "#REMOVING STOPWORDS"
      ],
      "metadata": {
        "id": "RFoTMYMAbIN6"
      }
    },
    {
      "cell_type": "code",
      "source": [
        "para=\"\"\"I have three visions for India. In 3000 years of our history, people from all over the world have come and invaded us, captured our lands, conquered our minds. From Alexander onwards, the Greeks, the Turks, the Moguls, the Portuguese, the British, the French, the Dutch, all of them came and looted us, took over what was ours. Yet, we have not done this to any other nation. We have not conquered anyone. We have not grabbed their land, their culture, their history, and tried to enforce our way of life on them. Why? Because we respect the freedom of others. That is why my first vision is that of freedom. I believe that India got its first vision of this in 1857 when we started the War of Independence. It is this freedom that we must protect and nurture and build on. If we are not free, no one will respect us.\"\"\""
      ],
      "metadata": {
        "id": "o_KyIJY5bKpQ"
      },
      "execution_count": 78,
      "outputs": []
    },
    {
      "cell_type": "code",
      "source": [
        "para"
      ],
      "metadata": {
        "id": "8a7qSwkibhSK",
        "outputId": "57f80f25-4760-47bd-c04e-f715070afa32",
        "colab": {
          "base_uri": "https://localhost:8080/",
          "height": 122
        }
      },
      "execution_count": 56,
      "outputs": [
        {
          "output_type": "execute_result",
          "data": {
            "text/plain": [
              "'I have three visions for India. In 3000 years of our history, people from all over the world have come and invaded us, captured our lands, conquered our minds. From Alexander onwards, the Greeks, the Turks, the Moguls, the Portuguese, the British, the French, the Dutch, all of them came and looted us, took over what was ours. Yet, we have not done this to any other nation. We have not conquered anyone. We have not grabbed their land, their culture, their history, and tried to enforce our way of life on them. Why? Because we respect the freedom of others. That is why my first vision is that of freedom. I believe that India got its first vision of this in 1857 when we started the War of Independence. It is this freedom that we must protect and nurture and build on. If we are not free, no one will respect us.'"
            ],
            "application/vnd.google.colaboratory.intrinsic+json": {
              "type": "string"
            }
          },
          "metadata": {},
          "execution_count": 56
        }
      ]
    },
    {
      "cell_type": "code",
      "source": [
        "from nltk.stem import PorterStemmer"
      ],
      "metadata": {
        "id": "RpDGASoEbiOR"
      },
      "execution_count": 57,
      "outputs": []
    },
    {
      "cell_type": "code",
      "source": [
        "from nltk.corpus import stopwords"
      ],
      "metadata": {
        "id": "8k3FrfdAbwSk"
      },
      "execution_count": 58,
      "outputs": []
    },
    {
      "cell_type": "code",
      "source": [
        "nltk.download('stopwords')"
      ],
      "metadata": {
        "id": "29SkSaOKb1b0",
        "outputId": "9fabeb66-c691-489d-c0db-f85918ef05c5",
        "colab": {
          "base_uri": "https://localhost:8080/"
        }
      },
      "execution_count": 59,
      "outputs": [
        {
          "output_type": "stream",
          "name": "stderr",
          "text": [
            "[nltk_data] Downloading package stopwords to /root/nltk_data...\n",
            "[nltk_data]   Unzipping corpora/stopwords.zip.\n"
          ]
        },
        {
          "output_type": "execute_result",
          "data": {
            "text/plain": [
              "True"
            ]
          },
          "metadata": {},
          "execution_count": 59
        }
      ]
    },
    {
      "cell_type": "code",
      "source": [
        "stopwords.words('english')"
      ],
      "metadata": {
        "id": "QpGdS1Lpb8_0",
        "outputId": "1d53e242-1d07-48e6-dab8-5205650e34ef",
        "colab": {
          "base_uri": "https://localhost:8080/"
        }
      },
      "execution_count": 63,
      "outputs": [
        {
          "output_type": "execute_result",
          "data": {
            "text/plain": [
              "['i',\n",
              " 'me',\n",
              " 'my',\n",
              " 'myself',\n",
              " 'we',\n",
              " 'our',\n",
              " 'ours',\n",
              " 'ourselves',\n",
              " 'you',\n",
              " \"you're\",\n",
              " \"you've\",\n",
              " \"you'll\",\n",
              " \"you'd\",\n",
              " 'your',\n",
              " 'yours',\n",
              " 'yourself',\n",
              " 'yourselves',\n",
              " 'he',\n",
              " 'him',\n",
              " 'his',\n",
              " 'himself',\n",
              " 'she',\n",
              " \"she's\",\n",
              " 'her',\n",
              " 'hers',\n",
              " 'herself',\n",
              " 'it',\n",
              " \"it's\",\n",
              " 'its',\n",
              " 'itself',\n",
              " 'they',\n",
              " 'them',\n",
              " 'their',\n",
              " 'theirs',\n",
              " 'themselves',\n",
              " 'what',\n",
              " 'which',\n",
              " 'who',\n",
              " 'whom',\n",
              " 'this',\n",
              " 'that',\n",
              " \"that'll\",\n",
              " 'these',\n",
              " 'those',\n",
              " 'am',\n",
              " 'is',\n",
              " 'are',\n",
              " 'was',\n",
              " 'were',\n",
              " 'be',\n",
              " 'been',\n",
              " 'being',\n",
              " 'have',\n",
              " 'has',\n",
              " 'had',\n",
              " 'having',\n",
              " 'do',\n",
              " 'does',\n",
              " 'did',\n",
              " 'doing',\n",
              " 'a',\n",
              " 'an',\n",
              " 'the',\n",
              " 'and',\n",
              " 'but',\n",
              " 'if',\n",
              " 'or',\n",
              " 'because',\n",
              " 'as',\n",
              " 'until',\n",
              " 'while',\n",
              " 'of',\n",
              " 'at',\n",
              " 'by',\n",
              " 'for',\n",
              " 'with',\n",
              " 'about',\n",
              " 'against',\n",
              " 'between',\n",
              " 'into',\n",
              " 'through',\n",
              " 'during',\n",
              " 'before',\n",
              " 'after',\n",
              " 'above',\n",
              " 'below',\n",
              " 'to',\n",
              " 'from',\n",
              " 'up',\n",
              " 'down',\n",
              " 'in',\n",
              " 'out',\n",
              " 'on',\n",
              " 'off',\n",
              " 'over',\n",
              " 'under',\n",
              " 'again',\n",
              " 'further',\n",
              " 'then',\n",
              " 'once',\n",
              " 'here',\n",
              " 'there',\n",
              " 'when',\n",
              " 'where',\n",
              " 'why',\n",
              " 'how',\n",
              " 'all',\n",
              " 'any',\n",
              " 'both',\n",
              " 'each',\n",
              " 'few',\n",
              " 'more',\n",
              " 'most',\n",
              " 'other',\n",
              " 'some',\n",
              " 'such',\n",
              " 'no',\n",
              " 'nor',\n",
              " 'not',\n",
              " 'only',\n",
              " 'own',\n",
              " 'same',\n",
              " 'so',\n",
              " 'than',\n",
              " 'too',\n",
              " 'very',\n",
              " 's',\n",
              " 't',\n",
              " 'can',\n",
              " 'will',\n",
              " 'just',\n",
              " 'don',\n",
              " \"don't\",\n",
              " 'should',\n",
              " \"should've\",\n",
              " 'now',\n",
              " 'd',\n",
              " 'll',\n",
              " 'm',\n",
              " 'o',\n",
              " 're',\n",
              " 've',\n",
              " 'y',\n",
              " 'ain',\n",
              " 'aren',\n",
              " \"aren't\",\n",
              " 'couldn',\n",
              " \"couldn't\",\n",
              " 'didn',\n",
              " \"didn't\",\n",
              " 'doesn',\n",
              " \"doesn't\",\n",
              " 'hadn',\n",
              " \"hadn't\",\n",
              " 'hasn',\n",
              " \"hasn't\",\n",
              " 'haven',\n",
              " \"haven't\",\n",
              " 'isn',\n",
              " \"isn't\",\n",
              " 'ma',\n",
              " 'mightn',\n",
              " \"mightn't\",\n",
              " 'mustn',\n",
              " \"mustn't\",\n",
              " 'needn',\n",
              " \"needn't\",\n",
              " 'shan',\n",
              " \"shan't\",\n",
              " 'shouldn',\n",
              " \"shouldn't\",\n",
              " 'wasn',\n",
              " \"wasn't\",\n",
              " 'weren',\n",
              " \"weren't\",\n",
              " 'won',\n",
              " \"won't\",\n",
              " 'wouldn',\n",
              " \"wouldn't\"]"
            ]
          },
          "metadata": {},
          "execution_count": 63
        }
      ]
    },
    {
      "cell_type": "code",
      "source": [
        "stemmer=PorterStemmer()"
      ],
      "metadata": {
        "id": "X9K8WgtZcIGk"
      },
      "execution_count": 64,
      "outputs": []
    },
    {
      "cell_type": "code",
      "source": [
        "sentences1=nltk.sent_tokenize(para)"
      ],
      "metadata": {
        "id": "bDOzhcsXccgF"
      },
      "execution_count": 79,
      "outputs": []
    },
    {
      "cell_type": "code",
      "source": [
        "sentences1"
      ],
      "metadata": {
        "id": "J2Kmd-KBci-E",
        "outputId": "3cbd28c4-7aff-4886-91f4-14c4139d6038",
        "colab": {
          "base_uri": "https://localhost:8080/"
        }
      },
      "execution_count": 67,
      "outputs": [
        {
          "output_type": "execute_result",
          "data": {
            "text/plain": [
              "['I have three visions for India.',\n",
              " 'In 3000 years of our history, people from all over the world have come and invaded us, captured our lands, conquered our minds.',\n",
              " 'From Alexander onwards, the Greeks, the Turks, the Moguls, the Portuguese, the British, the French, the Dutch, all of them came and looted us, took over what was ours.',\n",
              " 'Yet, we have not done this to any other nation.',\n",
              " 'We have not conquered anyone.',\n",
              " 'We have not grabbed their land, their culture, their history, and tried to enforce our way of life on them.',\n",
              " 'Why?',\n",
              " 'Because we respect the freedom of others.',\n",
              " 'That is why my first vision is that of freedom.',\n",
              " 'I believe that India got its first vision of this in 1857 when we started the War of Independence.',\n",
              " 'It is this freedom that we must protect and nurture and build on.',\n",
              " 'If we are not free, no one will respect us.']"
            ]
          },
          "metadata": {},
          "execution_count": 67
        }
      ]
    },
    {
      "cell_type": "code",
      "source": [
        "# apply stopwards and filter and then apply stemming"
      ],
      "metadata": {
        "id": "WDQsKF4mcsbU"
      },
      "execution_count": 68,
      "outputs": []
    },
    {
      "cell_type": "code",
      "source": [
        "for i in range(len(sentences1)):\n",
        "  words=word_tokenize(sentences1[i])\n",
        "  words=[stemmer.stem(word) for word in words if word not in set(stopwords.words('english'))]\n",
        "  sentences1[i]=' '.join(words)\n"
      ],
      "metadata": {
        "id": "t03pSCtZc5H0"
      },
      "execution_count": 69,
      "outputs": []
    },
    {
      "cell_type": "code",
      "source": [
        "sentences1"
      ],
      "metadata": {
        "id": "xTvvK7o7eavU",
        "outputId": "ff429fcc-2da9-4fe0-8e1c-c1f202192ae1",
        "colab": {
          "base_uri": "https://localhost:8080/"
        }
      },
      "execution_count": 70,
      "outputs": [
        {
          "output_type": "execute_result",
          "data": {
            "text/plain": [
              "['i three vision india .',\n",
              " 'in 3000 year histori , peopl world come invad us , captur land , conquer mind .',\n",
              " 'from alexand onward , greek , turk , mogul , portugues , british , french , dutch , came loot us , took .',\n",
              " 'yet , done nation .',\n",
              " 'we conquer anyon .',\n",
              " 'we grab land , cultur , histori , tri enforc way life .',\n",
              " 'whi ?',\n",
              " 'becaus respect freedom other .',\n",
              " 'that first vision freedom .',\n",
              " 'i believ india got first vision 1857 start war independ .',\n",
              " 'it freedom must protect nurtur build .',\n",
              " 'if free , one respect us .']"
            ]
          },
          "metadata": {},
          "execution_count": 70
        }
      ]
    },
    {
      "cell_type": "code",
      "source": [
        "# lets do it with lemmatization"
      ],
      "metadata": {
        "id": "k4Ea4qr0eceT"
      },
      "execution_count": 71,
      "outputs": []
    },
    {
      "cell_type": "code",
      "source": [
        "from nltk.stem import WordNetLemmatizer"
      ],
      "metadata": {
        "id": "ouEfAGR3fff0"
      },
      "execution_count": 72,
      "outputs": []
    },
    {
      "cell_type": "code",
      "source": [
        "lemmati=WordNetLemmatizer()"
      ],
      "metadata": {
        "id": "dJAmFg39fk0U"
      },
      "execution_count": 73,
      "outputs": []
    },
    {
      "cell_type": "code",
      "source": [
        "for i in range(len(sentences1)):\n",
        "  words=word_tokenize(sentences1[i])\n",
        "  words=[lemmati.lemmatize(word.lower()) for word in words if word not in set(stopwords.words('english'))]\n",
        "  sentences1[i]=' '.join(words)"
      ],
      "metadata": {
        "id": "LelbNfW0foYE"
      },
      "execution_count": 83,
      "outputs": []
    },
    {
      "cell_type": "code",
      "source": [
        "sentences1"
      ],
      "metadata": {
        "id": "qw_E1n6Df5Xk",
        "outputId": "9e778e57-43b6-4170-cf04-9d673c8b7189",
        "colab": {
          "base_uri": "https://localhost:8080/"
        }
      },
      "execution_count": 84,
      "outputs": [
        {
          "output_type": "execute_result",
          "data": {
            "text/plain": [
              "['i three vision india .',\n",
              " 'in 3000 year history , people world come invaded u , captured land , conquered mind .',\n",
              " 'from alexander onwards , greek , turk , mogul , portuguese , british , french , dutch , came looted u , took .',\n",
              " 'yet , done nation .',\n",
              " 'we conquered anyone .',\n",
              " 'we grabbed land , culture , history , tried enforce way life .',\n",
              " 'why ?',\n",
              " 'because respect freedom others .',\n",
              " 'that first vision freedom .',\n",
              " 'i believe india got first vision 1857 started war independence .',\n",
              " 'it freedom must protect nurture build .',\n",
              " 'if free , one respect u .']"
            ]
          },
          "metadata": {},
          "execution_count": 84
        }
      ]
    },
    {
      "cell_type": "code",
      "source": [
        "# result is quite good"
      ],
      "metadata": {
        "id": "CvRHTUO3f7X0"
      },
      "execution_count": 82,
      "outputs": []
    },
    {
      "cell_type": "code",
      "source": [],
      "metadata": {
        "id": "QxJpzpwzgb-T"
      },
      "execution_count": null,
      "outputs": []
    }
  ]
}