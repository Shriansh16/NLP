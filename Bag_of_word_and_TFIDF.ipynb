{
  "nbformat": 4,
  "nbformat_minor": 0,
  "metadata": {
    "colab": {
      "provenance": [],
      "authorship_tag": "ABX9TyO4Udihuflno2BH26xDujx3",
      "include_colab_link": true
    },
    "kernelspec": {
      "name": "python3",
      "display_name": "Python 3"
    },
    "language_info": {
      "name": "python"
    }
  },
  "cells": [
    {
      "cell_type": "markdown",
      "metadata": {
        "id": "view-in-github",
        "colab_type": "text"
      },
      "source": [
        "<a href=\"https://colab.research.google.com/github/Shriansh16/NLP/blob/main/Bag_of_word_and_TFIDF.ipynb\" target=\"_parent\"><img src=\"https://colab.research.google.com/assets/colab-badge.svg\" alt=\"Open In Colab\"/></a>"
      ]
    },
    {
      "cell_type": "code",
      "execution_count": 1,
      "metadata": {
        "id": "WkCsg59vXkre"
      },
      "outputs": [],
      "source": [
        "import nltk"
      ]
    },
    {
      "cell_type": "code",
      "source": [
        "from nltk.corpus import stopwords\n",
        "import nltk\n",
        "nltk.download('stopwords')"
      ],
      "metadata": {
        "colab": {
          "base_uri": "https://localhost:8080/"
        },
        "id": "PxyIo5atXmnR",
        "outputId": "afdd36e2-3cb5-4257-8d6e-34b8f6ea09fd"
      },
      "execution_count": 2,
      "outputs": [
        {
          "output_type": "stream",
          "name": "stderr",
          "text": [
            "[nltk_data] Downloading package stopwords to /root/nltk_data...\n",
            "[nltk_data]   Unzipping corpora/stopwords.zip.\n"
          ]
        },
        {
          "output_type": "execute_result",
          "data": {
            "text/plain": [
              "True"
            ]
          },
          "metadata": {},
          "execution_count": 2
        }
      ]
    },
    {
      "cell_type": "code",
      "source": [
        "paragraph =  \"\"\"I have three visions for India. In 3000 years of our history, people from all over the world have come and invaded us, captured our lands, conquered our minds.From Alexander onwards, the Greeks, the Turks, the Moguls, the Portuguese, the British,the French, the Dutch, all of them came and looted us, took over what was ours.\n",
        "               Yet we have not done this to any other nation. We have not conquered anyone.We have not grabbed their land, their culture,their history and tried to enforce our way of life on them.Why? Because we respect the freedom of others.That is why my first vision is that of freedom. I believe that India got its first vision of this in 1857, when we started the War of Independence. It is this freedom that we must protect and nurture and build on. If we are not free, no one will respect us. My second vision for India’s development. For fifty years we have been a developing nation. It is time we see ourselves as a developed nation. We are among the top 5 nations of the world in terms of GDP. We have a 10 percent growth rate in most areas. Our poverty levels are falling. Our achievements are being globally recognised today. Yet we lack the self-confidence to see ourselves as a developed nation, self-reliant and self-assured. Isn’t this incorrect? I have a third vision. India must stand up to the world. Because I believe that unless India stands up to the world, no one will respect us. Only strength respects strength. We must be strong not only as a military power but also as an economic power. Both must go hand-in-hand. My good fortune was to have worked with three great minds. Dr. Vikram Sarabhai of the Dept. of space, Professor Satish Dhawan, who succeeded him and Dr. Brahm Prakash, father of nuclear material. I was lucky to have worked with all three of them closely and consider this the great opportunity of my life.I see four milestones in my career\"\"\"\n"
      ],
      "metadata": {
        "id": "sqdCROunXvwP"
      },
      "execution_count": 3,
      "outputs": []
    },
    {
      "cell_type": "code",
      "source": [
        "paragraph_lower=paragraph.lower()"
      ],
      "metadata": {
        "id": "sxJx7HlHYfMN"
      },
      "execution_count": 4,
      "outputs": []
    },
    {
      "cell_type": "code",
      "source": [
        "paragraph_lower"
      ],
      "metadata": {
        "colab": {
          "base_uri": "https://localhost:8080/",
          "height": 123
        },
        "id": "TAW4Q5qPYpy9",
        "outputId": "05f6df77-6c50-45a4-e0b7-6dbd600900e5"
      },
      "execution_count": 5,
      "outputs": [
        {
          "output_type": "execute_result",
          "data": {
            "text/plain": [
              "'i have three visions for india. in 3000 years of our history, people from all over the world have come and invaded us, captured our lands, conquered our minds.from alexander onwards, the greeks, the turks, the moguls, the portuguese, the british,the french, the dutch, all of them came and looted us, took over what was ours.\\n               yet we have not done this to any other nation. we have not conquered anyone.we have not grabbed their land, their culture,their history and tried to enforce our way of life on them.why? because we respect the freedom of others.that is why my first vision is that of freedom. i believe that india got its first vision of this in 1857, when we started the war of independence. it is this freedom that we must protect and nurture and build on. if we are not free, no one will respect us. my second vision for india’s development. for fifty years we have been a developing nation. it is time we see ourselves as a developed nation. we are among the top 5 nations of the world in terms of gdp. we have a 10 percent growth rate in most areas. our poverty levels are falling. our achievements are being globally recognised today. yet we lack the self-confidence to see ourselves as a developed nation, self-reliant and self-assured. isn’t this incorrect? i have a third vision. india must stand up to the world. because i believe that unless india stands up to the world, no one will respect us. only strength respects strength. we must be strong not only as a military power but also as an economic power. both must go hand-in-hand. my good fortune was to have worked with three great minds. dr. vikram sarabhai of the dept. of space, professor satish dhawan, who succeeded him and dr. brahm prakash, father of nuclear material. i was lucky to have worked with all three of them closely and consider this the great opportunity of my life.i see four milestones in my career'"
            ],
            "application/vnd.google.colaboratory.intrinsic+json": {
              "type": "string"
            }
          },
          "metadata": {},
          "execution_count": 5
        }
      ]
    },
    {
      "cell_type": "code",
      "source": [
        "from nltk.tokenize import word_tokenize,sent_tokenize\n",
        "import nltk\n",
        "nltk.download('punkt')"
      ],
      "metadata": {
        "colab": {
          "base_uri": "https://localhost:8080/"
        },
        "id": "_Piu6KTGYr9e",
        "outputId": "6d5c04b9-5aab-4c1f-c24d-17a0b5afbbfd"
      },
      "execution_count": 12,
      "outputs": [
        {
          "output_type": "stream",
          "name": "stderr",
          "text": [
            "[nltk_data] Downloading package punkt to /root/nltk_data...\n",
            "[nltk_data]   Unzipping tokenizers/punkt.zip.\n"
          ]
        },
        {
          "output_type": "execute_result",
          "data": {
            "text/plain": [
              "True"
            ]
          },
          "metadata": {},
          "execution_count": 12
        }
      ]
    },
    {
      "cell_type": "code",
      "source": [
        "sentences=sent_tokenize(paragraph_lower)"
      ],
      "metadata": {
        "id": "Ii0uf8DzaD6P"
      },
      "execution_count": 14,
      "outputs": []
    },
    {
      "cell_type": "code",
      "source": [
        "sentences"
      ],
      "metadata": {
        "colab": {
          "base_uri": "https://localhost:8080/"
        },
        "id": "uofpLJC0aNbd",
        "outputId": "7255ed93-9eeb-4268-8ce7-64a0ba23115d"
      },
      "execution_count": 15,
      "outputs": [
        {
          "output_type": "execute_result",
          "data": {
            "text/plain": [
              "['i have three visions for india.',\n",
              " 'in 3000 years of our history, people from all over the world have come and invaded us, captured our lands, conquered our minds.from alexander onwards, the greeks, the turks, the moguls, the portuguese, the british,the french, the dutch, all of them came and looted us, took over what was ours.',\n",
              " 'yet we have not done this to any other nation.',\n",
              " 'we have not conquered anyone.we have not grabbed their land, their culture,their history and tried to enforce our way of life on them.why?',\n",
              " 'because we respect the freedom of others.that is why my first vision is that of freedom.',\n",
              " 'i believe that india got its first vision of this in 1857, when we started the war of independence.',\n",
              " 'it is this freedom that we must protect and nurture and build on.',\n",
              " 'if we are not free, no one will respect us.',\n",
              " 'my second vision for india’s development.',\n",
              " 'for fifty years we have been a developing nation.',\n",
              " 'it is time we see ourselves as a developed nation.',\n",
              " 'we are among the top 5 nations of the world in terms of gdp.',\n",
              " 'we have a 10 percent growth rate in most areas.',\n",
              " 'our poverty levels are falling.',\n",
              " 'our achievements are being globally recognised today.',\n",
              " 'yet we lack the self-confidence to see ourselves as a developed nation, self-reliant and self-assured.',\n",
              " 'isn’t this incorrect?',\n",
              " 'i have a third vision.',\n",
              " 'india must stand up to the world.',\n",
              " 'because i believe that unless india stands up to the world, no one will respect us.',\n",
              " 'only strength respects strength.',\n",
              " 'we must be strong not only as a military power but also as an economic power.',\n",
              " 'both must go hand-in-hand.',\n",
              " 'my good fortune was to have worked with three great minds.',\n",
              " 'dr. vikram sarabhai of the dept.',\n",
              " 'of space, professor satish dhawan, who succeeded him and dr. brahm prakash, father of nuclear material.',\n",
              " 'i was lucky to have worked with all three of them closely and consider this the great opportunity of my life.i see four milestones in my career']"
            ]
          },
          "metadata": {},
          "execution_count": 15
        }
      ]
    },
    {
      "cell_type": "code",
      "source": [
        "import string\n",
        "string.punctuation"
      ],
      "metadata": {
        "colab": {
          "base_uri": "https://localhost:8080/",
          "height": 36
        },
        "id": "gE41hQhdauxd",
        "outputId": "3661c56f-3e5d-42a0-e363-bbff3c4c60ee"
      },
      "execution_count": 20,
      "outputs": [
        {
          "output_type": "execute_result",
          "data": {
            "text/plain": [
              "'!\"#$%&\\'()*+,-./:;<=>?@[\\\\]^_`{|}~'"
            ],
            "application/vnd.google.colaboratory.intrinsic+json": {
              "type": "string"
            }
          },
          "metadata": {},
          "execution_count": 20
        }
      ]
    },
    {
      "cell_type": "code",
      "source": [
        "def remove_punctuation(sentences):\n",
        "  result=[]\n",
        "  for sentence in sentences:\n",
        "    for i in string.punctuation:\n",
        "      sentence=sentence.replace(i,'')\n",
        "    result.append(sentence)\n",
        "  return result\n",
        "\n",
        ""
      ],
      "metadata": {
        "id": "noU6-11ca08e"
      },
      "execution_count": 21,
      "outputs": []
    },
    {
      "cell_type": "code",
      "source": [
        "sentences1=remove_punctuation(sentences)"
      ],
      "metadata": {
        "id": "5ZpQr1_4cFs-"
      },
      "execution_count": 22,
      "outputs": []
    },
    {
      "cell_type": "code",
      "source": [
        "sentences1"
      ],
      "metadata": {
        "colab": {
          "base_uri": "https://localhost:8080/"
        },
        "id": "MAEqPhH4cNme",
        "outputId": "c6e7ccc0-56b5-446f-9cad-0da50cb80ddc"
      },
      "execution_count": 23,
      "outputs": [
        {
          "output_type": "execute_result",
          "data": {
            "text/plain": [
              "['i have three visions for india',\n",
              " 'in 3000 years of our history people from all over the world have come and invaded us captured our lands conquered our mindsfrom alexander onwards the greeks the turks the moguls the portuguese the britishthe french the dutch all of them came and looted us took over what was ours',\n",
              " 'yet we have not done this to any other nation',\n",
              " 'we have not conquered anyonewe have not grabbed their land their culturetheir history and tried to enforce our way of life on themwhy',\n",
              " 'because we respect the freedom of othersthat is why my first vision is that of freedom',\n",
              " 'i believe that india got its first vision of this in 1857 when we started the war of independence',\n",
              " 'it is this freedom that we must protect and nurture and build on',\n",
              " 'if we are not free no one will respect us',\n",
              " 'my second vision for india’s development',\n",
              " 'for fifty years we have been a developing nation',\n",
              " 'it is time we see ourselves as a developed nation',\n",
              " 'we are among the top 5 nations of the world in terms of gdp',\n",
              " 'we have a 10 percent growth rate in most areas',\n",
              " 'our poverty levels are falling',\n",
              " 'our achievements are being globally recognised today',\n",
              " 'yet we lack the selfconfidence to see ourselves as a developed nation selfreliant and selfassured',\n",
              " 'isn’t this incorrect',\n",
              " 'i have a third vision',\n",
              " 'india must stand up to the world',\n",
              " 'because i believe that unless india stands up to the world no one will respect us',\n",
              " 'only strength respects strength',\n",
              " 'we must be strong not only as a military power but also as an economic power',\n",
              " 'both must go handinhand',\n",
              " 'my good fortune was to have worked with three great minds',\n",
              " 'dr vikram sarabhai of the dept',\n",
              " 'of space professor satish dhawan who succeeded him and dr brahm prakash father of nuclear material',\n",
              " 'i was lucky to have worked with all three of them closely and consider this the great opportunity of my lifei see four milestones in my career']"
            ]
          },
          "metadata": {},
          "execution_count": 23
        }
      ]
    },
    {
      "cell_type": "code",
      "source": [
        "stop_words=list(stopwords.words('english'))\n"
      ],
      "metadata": {
        "id": "3nZpDt9PeHxa"
      },
      "execution_count": 30,
      "outputs": []
    },
    {
      "cell_type": "code",
      "source": [
        "## removing stopwords\n",
        "def remove_stopwords(sentences):\n",
        "  result=[]\n",
        "  for sentence in sentences:\n",
        "    filtered_sentence=' '.join([word for word in sentence.split() if word not in stop_words])\n",
        "    result.append(filtered_sentence)\n",
        "  return result"
      ],
      "metadata": {
        "id": "6VMG2MXMcPJV"
      },
      "execution_count": 32,
      "outputs": []
    },
    {
      "cell_type": "code",
      "source": [
        "sentences3=remove_stopwords(sentences1)"
      ],
      "metadata": {
        "id": "T6WLdt39dhPs"
      },
      "execution_count": 33,
      "outputs": []
    },
    {
      "cell_type": "code",
      "source": [
        "sentences3"
      ],
      "metadata": {
        "colab": {
          "base_uri": "https://localhost:8080/"
        },
        "id": "ROE0a2bofEqe",
        "outputId": "ea687e47-83b1-4b31-eed3-714fd9450884"
      },
      "execution_count": 34,
      "outputs": [
        {
          "output_type": "execute_result",
          "data": {
            "text/plain": [
              "['three visions india',\n",
              " '3000 years history people world come invaded us captured lands conquered mindsfrom alexander onwards greeks turks moguls portuguese britishthe french dutch came looted us took',\n",
              " 'yet done nation',\n",
              " 'conquered anyonewe grabbed land culturetheir history tried enforce way life themwhy',\n",
              " 'respect freedom othersthat first vision freedom',\n",
              " 'believe india got first vision 1857 started war independence',\n",
              " 'freedom must protect nurture build',\n",
              " 'free one respect us',\n",
              " 'second vision india’s development',\n",
              " 'fifty years developing nation',\n",
              " 'time see developed nation',\n",
              " 'among top 5 nations world terms gdp',\n",
              " '10 percent growth rate areas',\n",
              " 'poverty levels falling',\n",
              " 'achievements globally recognised today',\n",
              " 'yet lack selfconfidence see developed nation selfreliant selfassured',\n",
              " 'isn’t incorrect',\n",
              " 'third vision',\n",
              " 'india must stand world',\n",
              " 'believe unless india stands world one respect us',\n",
              " 'strength respects strength',\n",
              " 'must strong military power also economic power',\n",
              " 'must go handinhand',\n",
              " 'good fortune worked three great minds',\n",
              " 'dr vikram sarabhai dept',\n",
              " 'space professor satish dhawan succeeded dr brahm prakash father nuclear material',\n",
              " 'lucky worked three closely consider great opportunity lifei see four milestones career']"
            ]
          },
          "metadata": {},
          "execution_count": 34
        }
      ]
    },
    {
      "cell_type": "markdown",
      "source": [
        "## BAG OF WORDS"
      ],
      "metadata": {
        "id": "nQhWT3IVilaY"
      }
    },
    {
      "cell_type": "code",
      "source": [
        "from sklearn.feature_extraction.text import CountVectorizer"
      ],
      "metadata": {
        "id": "IqRI5MVNfGX9"
      },
      "execution_count": 37,
      "outputs": []
    },
    {
      "cell_type": "code",
      "source": [
        "cv = CountVectorizer(stop_words = 'english', lowercase = True, max_features = 1500)"
      ],
      "metadata": {
        "id": "Q9jN_yegi1Az"
      },
      "execution_count": 38,
      "outputs": []
    },
    {
      "cell_type": "code",
      "source": [
        "X=cv.fit_transform(sentences3).toarray()"
      ],
      "metadata": {
        "id": "nokroeJmjd3N"
      },
      "execution_count": 40,
      "outputs": []
    },
    {
      "cell_type": "code",
      "source": [
        "X"
      ],
      "metadata": {
        "colab": {
          "base_uri": "https://localhost:8080/"
        },
        "id": "5E2yLRTqjng8",
        "outputId": "d2434a6c-2f01-4e4e-98b7-240f3b461db3"
      },
      "execution_count": 41,
      "outputs": [
        {
          "output_type": "execute_result",
          "data": {
            "text/plain": [
              "array([[0, 0, 0, ..., 0, 0, 0],\n",
              "       [0, 0, 1, ..., 0, 1, 1],\n",
              "       [0, 0, 0, ..., 0, 0, 0],\n",
              "       ...,\n",
              "       [0, 0, 0, ..., 0, 0, 0],\n",
              "       [0, 0, 0, ..., 0, 0, 0],\n",
              "       [0, 0, 0, ..., 1, 0, 0]])"
            ]
          },
          "metadata": {},
          "execution_count": 41
        }
      ]
    },
    {
      "cell_type": "code",
      "source": [],
      "metadata": {
        "id": "VHEiHxeEkEQN"
      },
      "execution_count": null,
      "outputs": []
    }
  ]
}